{
 "cells": [
  {
   "cell_type": "code",
   "execution_count": 1,
   "metadata": {},
   "outputs": [],
   "source": [
    "import os\n",
    "import numpy as np\n",
    "import pandas as pd\n",
    "import matplotlib.pyplot as plt\n"
   ]
  },
  {
   "cell_type": "code",
   "execution_count": 2,
   "metadata": {},
   "outputs": [
    {
     "name": "stdout",
     "output_type": "stream",
     "text": [
      "Type your favorite stock:  m\n",
      "M\n"
     ]
    }
   ],
   "source": [
    "#read user stock input\n",
    "favor_stock = input(\"Type your favorite stock:  \")\n",
    "favor_stock=favor_stock.upper()\n",
    "print (favor_stock)"
   ]
  },
  {
   "cell_type": "code",
   "execution_count": 3,
   "metadata": {},
   "outputs": [
    {
     "name": "stdout",
     "output_type": "stream",
     "text": [
      "corr2 head:\n",
      "           PCA1      PCA2      PCA3      PCA4      PCA5\n",
      "MMM   0.987235 -0.095806 -0.055962 -0.039496  0.016730\n",
      "ABT   0.965670  0.062359 -0.063589  0.109156  0.124772\n",
      "ACN   0.975498 -0.074403 -0.158498 -0.050076 -0.018694\n",
      "ATVI  0.871687 -0.435483 -0.066469 -0.108992  0.064664\n",
      "AYI   0.918923 -0.114110 -0.156262  0.204377 -0.166625\n"
     ]
    }
   ],
   "source": [
    "corr2 = pd.read_csv(os.path.join('data2','pca500-components.csv'),index_col=0)\n",
    "\n",
    "print(\"corr2 head:\\n\",corr2.head())\n"
   ]
  },
  {
   "cell_type": "code",
   "execution_count": 5,
   "metadata": {},
   "outputs": [
    {
     "name": "stdout",
     "output_type": "stream",
     "text": [
      "pointA: [[ 0.65885194  0.65428502]]\n",
      "          PCA1      PCA2      PCA3      PCA4      PCA5  Distance\n",
      "EXC  -0.217881 -0.550922  0.682555  0.114160 -0.064291  1.490365\n",
      "NEM  -0.552846 -0.167523 -0.012832 -0.602370 -0.381328  1.464097\n",
      "HPQ   0.034811 -0.594821  0.444281 -0.097389 -0.035268  1.396314\n",
      "APA  -0.639347  0.259524  0.531898 -0.323917 -0.263473  1.356892\n",
      "CHK  -0.589443  0.245435  0.717297 -0.027842 -0.046916  1.313544\n",
      "C    -0.138571 -0.376011  0.801892  0.261971 -0.011473  1.302841\n",
      "AMD   0.157628 -0.546601  0.264420 -0.672061 -0.112660  1.301289\n",
      "MOS  -0.510461  0.116095  0.681626 -0.027476 -0.264971  1.287222\n",
      "DVN  -0.533611  0.201010  0.731674 -0.035740 -0.165281  1.275706\n",
      "AIG  -0.159604 -0.314622  0.787398  0.251577 -0.090070  1.268327\n",
      "BBY   0.544305 -0.590810  0.295824 -0.122952  0.095155  1.250353\n",
      "BAC   0.219607 -0.514015  0.762437  0.170845  0.085302  1.248143\n",
      "NFX  -0.289013 -0.146673  0.402058 -0.262463 -0.709214  1.240960\n",
      "ARNC -0.191586 -0.230873  0.891012  0.151004 -0.183586  1.227497\n",
      "NVDA  0.689059 -0.561500  0.039524 -0.394727  0.171662  1.216160\n",
      "DXC   0.764779 -0.544502 -0.046053 -0.293868  0.112868  1.203458\n",
      "EA    0.811844 -0.534124  0.135853  0.078508 -0.019519  1.198216\n",
      "ETFC  0.493315 -0.525743  0.580390  0.202545 -0.011488  1.191582\n",
      "FCX  -0.508427  0.416629  0.564571 -0.386398 -0.227312  1.191227\n",
      "M     0.658852  0.654285  0.070000  0.293832 -0.036628  0.000000\n"
     ]
    }
   ],
   "source": [
    "from scipy.spatial import distance\n",
    "\n",
    "#pointA = corr2.loc[['AMZN'],['PCA1','PCA2']].values\n",
    "pointA = corr2.loc[[favor_stock],['PCA1','PCA2']].values\n",
    "print (\"pointA:\", pointA)\n",
    "dis_list = np.empty(shape=[0, 1])\n",
    "for i in (corr2.index):\n",
    "    pointB=corr2.loc[[i],['PCA1','PCA2']].values\n",
    "    dis1 = distance.euclidean(pointA, pointB)\n",
    "    dis_list = np.append(dis_list, dis1)\n",
    "    #print(\"dist: \", dis_list)\n",
    "corr3 = corr2.copy()\n",
    "corr3['Distance']=dis_list\n",
    "corr3.sort_values('Distance',ascending=False,inplace=True)\n",
    "corr4=corr3.head(19).append(corr3.loc[favor_stock])\n",
    "print(corr4)\n",
    "corr4.to_csv(os.path.join('data2','pca500-distance.csv'))"
   ]
  },
  {
   "cell_type": "code",
   "execution_count": null,
   "metadata": {},
   "outputs": [],
   "source": []
  },
  {
   "cell_type": "code",
   "execution_count": null,
   "metadata": {},
   "outputs": [],
   "source": []
  }
 ],
 "metadata": {
  "kernelspec": {
   "display_name": "Python 3",
   "language": "python",
   "name": "python3"
  },
  "language_info": {
   "codemirror_mode": {
    "name": "ipython",
    "version": 3
   },
   "file_extension": ".py",
   "mimetype": "text/x-python",
   "name": "python",
   "nbconvert_exporter": "python",
   "pygments_lexer": "ipython3",
   "version": "3.6.2"
  }
 },
 "nbformat": 4,
 "nbformat_minor": 2
}
